{
  "nbformat": 4,
  "nbformat_minor": 0,
  "metadata": {
    "colab": {
      "provenance": [],
      "include_colab_link": true
    },
    "kernelspec": {
      "name": "python3",
      "display_name": "Python 3"
    }
  },
  "cells": [
    {
      "cell_type": "markdown",
      "metadata": {
        "id": "view-in-github",
        "colab_type": "text"
      },
      "source": [
        "<a href=\"https://colab.research.google.com/github/sky16k/MDS/blob/main/MDS05_HW_%D0%A9%D0%B5%D0%B4%D1%80%D0%B8%D0%BD%D0%BE%D0%B2.ipynb\" target=\"_parent\"><img src=\"https://colab.research.google.com/assets/colab-badge.svg\" alt=\"Open In Colab\"/></a>"
      ]
    },
    {
      "cell_type": "markdown",
      "metadata": {
        "id": "_kX74ytuOfgy"
      },
      "source": [
        "# Домашнее задание \"Функции нескольких переменных\"."
      ]
    },
    {
      "cell_type": "markdown",
      "source": [
        "## Уровень 0:\n"
      ],
      "metadata": {
        "id": "t69IZulqTZMz"
      }
    },
    {
      "cell_type": "markdown",
      "source": [
        "### Задание 1"
      ],
      "metadata": {
        "id": "9JUikPzroAL8"
      }
    },
    {
      "cell_type": "markdown",
      "source": [
        "Посчитайте частные производные функций:\n",
        "\n",
        "1) $f(x,y)=2x^2y^3 + 1/x + y^2x + 7$\n",
        "\n",
        "2) $f(x,y)=x^2y - sin(xy) + cos(x^2) + 6y$"
      ],
      "metadata": {
        "id": "ya8BlSO5nQ9a"
      }
    },
    {
      "cell_type": "code",
      "source": [
        "from sympy import *\n",
        "import numpy as np\n"
      ],
      "metadata": {
        "id": "bFWrlmQipHwC"
      },
      "execution_count": 2,
      "outputs": []
    },
    {
      "cell_type": "code",
      "source": [
        "x = Symbol('x')\n",
        "y = Symbol('y')"
      ],
      "metadata": {
        "id": "D3Y4RzOYtNPk"
      },
      "execution_count": 3,
      "outputs": []
    },
    {
      "cell_type": "code",
      "source": [
        "f=2*x**2*y**3+x**(-1)+y**2*x+7"
      ],
      "metadata": {
        "id": "bjOiyQCLpC6C"
      },
      "execution_count": 4,
      "outputs": []
    },
    {
      "cell_type": "code",
      "source": [
        "### YOUR CODE HERE\n",
        "f.diff(x)  "
      ],
      "metadata": {
        "id": "p2gC3FEFnY08",
        "colab": {
          "base_uri": "https://localhost:8080/",
          "height": 51
        },
        "outputId": "fdac27ad-064c-4f1f-8cb5-e746f0209bb9"
      },
      "execution_count": 5,
      "outputs": [
        {
          "output_type": "execute_result",
          "data": {
            "text/plain": [
              "4*x*y**3 + y**2 - 1/x**2"
            ],
            "text/latex": "$\\displaystyle 4 x y^{3} + y^{2} - \\frac{1}{x^{2}}$"
          },
          "metadata": {},
          "execution_count": 5
        }
      ]
    },
    {
      "cell_type": "code",
      "source": [
        "f.diff(y)  "
      ],
      "metadata": {
        "colab": {
          "base_uri": "https://localhost:8080/",
          "height": 38
        },
        "outputId": "9efa326d-f54f-4d10-cf01-8eb03ebd6d10",
        "id": "gtm1xrpJqgYx"
      },
      "execution_count": 7,
      "outputs": [
        {
          "output_type": "execute_result",
          "data": {
            "text/plain": [
              "6*x**2*y**2 + 2*x*y"
            ],
            "text/latex": "$\\displaystyle 6 x^{2} y^{2} + 2 x y$"
          },
          "metadata": {},
          "execution_count": 7
        }
      ]
    },
    {
      "cell_type": "code",
      "source": [
        "g=x**2*y-sin(x*y)+cos(x**2)+6*y"
      ],
      "metadata": {
        "id": "rnxQFrCFqsWR"
      },
      "execution_count": 8,
      "outputs": []
    },
    {
      "cell_type": "code",
      "source": [
        "g.diff(x)"
      ],
      "metadata": {
        "colab": {
          "base_uri": "https://localhost:8080/",
          "height": 38
        },
        "id": "nS03dw6Lq6b4",
        "outputId": "614b35e4-0097-4f6e-83ed-a53a8c19cfb9"
      },
      "execution_count": 9,
      "outputs": [
        {
          "output_type": "execute_result",
          "data": {
            "text/plain": [
              "2*x*y - 2*x*sin(x**2) - y*cos(x*y)"
            ],
            "text/latex": "$\\displaystyle 2 x y - 2 x \\sin{\\left(x^{2} \\right)} - y \\cos{\\left(x y \\right)}$"
          },
          "metadata": {},
          "execution_count": 9
        }
      ]
    },
    {
      "cell_type": "code",
      "source": [
        "g.diff(y)"
      ],
      "metadata": {
        "colab": {
          "base_uri": "https://localhost:8080/",
          "height": 38
        },
        "id": "698H8xCXq6To",
        "outputId": "b4bb4b66-e561-42fa-8c0a-ca3790f5dcf0"
      },
      "execution_count": 10,
      "outputs": [
        {
          "output_type": "execute_result",
          "data": {
            "text/plain": [
              "x**2 - x*cos(x*y) + 6"
            ],
            "text/latex": "$\\displaystyle x^{2} - x \\cos{\\left(x y \\right)} + 6$"
          },
          "metadata": {},
          "execution_count": 10
        }
      ]
    },
    {
      "cell_type": "markdown",
      "source": [
        "## Уровень 1:"
      ],
      "metadata": {
        "id": "qZxS_tEVTapE"
      }
    },
    {
      "cell_type": "markdown",
      "source": [
        "### Задание 2"
      ],
      "metadata": {
        "id": "gUB5Tx31oDZB"
      }
    },
    {
      "cell_type": "markdown",
      "source": [
        "Вычислите градиент функции:\n",
        "\n",
        "$f(x,y)=2x^2y^3 + 1/x + y^2x + 7$\n",
        "\n",
        "в точке $(1,2)$"
      ],
      "metadata": {
        "id": "Jh-pEPj-TcDQ"
      }
    },
    {
      "cell_type": "code",
      "source": [
        "from sympy import *\n",
        "import numpy as np\n"
      ],
      "metadata": {
        "id": "hgGHWD9LrccA"
      },
      "execution_count": 2,
      "outputs": []
    },
    {
      "cell_type": "code",
      "source": [
        "x = Symbol('x')\n",
        "y = Symbol('y')"
      ],
      "metadata": {
        "id": "kjbhSoPfrccF"
      },
      "execution_count": 3,
      "outputs": []
    },
    {
      "cell_type": "code",
      "source": [
        "f=2*x**2*y**3+x**(-1)+x*y**2+7"
      ],
      "metadata": {
        "colab": {
          "base_uri": "https://localhost:8080/"
        },
        "id": "8pxGZ3AOrd5A",
        "outputId": "80073d73-375d-4147-8a8b-46a8a92cf97d"
      },
      "execution_count": 4,
      "outputs": [
        {
          "output_type": "stream",
          "name": "stderr",
          "text": [
            "/usr/local/lib/python3.8/dist-packages/sympy/deprecated/class_registry.py:33: SymPyDeprecationWarning: \n",
            "\n",
            "C, including its class ClassRegistry, has been deprecated since SymPy\n",
            "1.0. It will be last supported in SymPy version 1.0. Use direct\n",
            "imports from the defining module instead. See\n",
            "https://github.com/sympy/sympy/issues/9371 for more info.\n",
            "\n",
            "  SymPyDeprecationWarning(\n"
          ]
        }
      ]
    },
    {
      "cell_type": "code",
      "source": [
        "### YOUR CODE HERE\n",
        "f_grad = np.array([f.diff(x),f.diff(y)])\n",
        "f_grad[0]"
      ],
      "metadata": {
        "id": "uco5UzhWoHAP",
        "colab": {
          "base_uri": "https://localhost:8080/",
          "height": 51
        },
        "outputId": "fc38133b-2618-44b8-a716-0f685b65e03a"
      },
      "execution_count": 5,
      "outputs": [
        {
          "output_type": "execute_result",
          "data": {
            "text/plain": [
              "4*x*y**3 + y**2 - 1/x**2"
            ],
            "text/latex": "$\\displaystyle 4 x y^{3} + y^{2} - \\frac{1}{x^{2}}$"
          },
          "metadata": {},
          "execution_count": 5
        }
      ]
    },
    {
      "cell_type": "code",
      "source": [
        "def grad_subs_xy(grad_,x_,y_):\n",
        "    v = np.empty_like(grad_)\n",
        "    for i,f in enumerate(grad_):\n",
        "        v[i] = f.subs(x,x_).subs(y,y_)\n",
        "    return v"
      ],
      "metadata": {
        "id": "86KCA0egtRho"
      },
      "execution_count": 14,
      "outputs": []
    },
    {
      "cell_type": "code",
      "source": [
        "grad_subs_xy(f_grad,1,2)"
      ],
      "metadata": {
        "colab": {
          "base_uri": "https://localhost:8080/"
        },
        "id": "Ympt9XRGtRfQ",
        "outputId": "66ab702f-56d4-464f-8897-ecdb423ffc8b"
      },
      "execution_count": 15,
      "outputs": [
        {
          "output_type": "execute_result",
          "data": {
            "text/plain": [
              "array([35, 28], dtype=object)"
            ]
          },
          "metadata": {},
          "execution_count": 15
        }
      ]
    },
    {
      "cell_type": "markdown",
      "source": [
        "### Задание 3"
      ],
      "metadata": {
        "id": "8VarIpdkxpGK"
      }
    },
    {
      "cell_type": "markdown",
      "source": [
        "Постройте трехмерный график функции\n",
        "\n",
        "$f(x)=x_2^2-x_1^2 x_2 + 2 x_1 x_2$"
      ],
      "metadata": {
        "id": "GWBRQp39xpIj"
      }
    },
    {
      "cell_type": "code",
      "source": [
        "### YOUR CODE HERE\n"
      ],
      "metadata": {
        "id": "p44HQDIUxpgx"
      },
      "execution_count": null,
      "outputs": []
    },
    {
      "cell_type": "code",
      "execution_count": 49,
      "metadata": {
        "id": "5SHgr4VMzSzm",
        "outputId": "b7b5a9bf-ef00-44eb-c5c3-e5538b5c2522",
        "colab": {
          "base_uri": "https://localhost:8080/",
          "height": 248
        }
      },
      "outputs": [
        {
          "output_type": "display_data",
          "data": {
            "text/plain": [
              "<Figure size 432x288 with 2 Axes>"
            ],
            "image/png": "[encoded data removed]"
          },
          "metadata": {
            "needs_background": "light"
          }
        }
      ],
      "source": [
        "from mpl_toolkits.mplot3d import Axes3D\n",
        "import matplotlib.pyplot as plt\n",
        "from matplotlib import cm\n",
        "from matplotlib.ticker import LinearLocator, FormatStrFormatter\n",
        "import numpy as np\n",
        "\n",
        "\n",
        "fig = plt.figure()\n",
        "ax = fig.gca(projection='3d')\n",
        "\n",
        "# Данные\n",
        "X = np.arange(-10, 10, 0.5)\n",
        "Y = np.arange(-10, 10, 0.5)\n",
        "X, Y = np.meshgrid(X, Y)\n",
        "Z = Y**2-X**2*Y+2*X*Y\n",
        "\n",
        "\n",
        "# График поверхности\n",
        "surf = ax.plot_surface(X, Y, Z, cmap=cm.coolwarm,\n",
        "                       linewidth=0, antialiased=False)\n",
        "\n",
        "# Настройка оси z\n",
        "ax.set_zlim(-1000, 2000.0)\n",
        "# ax.zaxis.set_major_locator(LinearLocator(10))\n",
        "# ax.zaxis.set_major_formatter(FormatStrFormatter('%.02f'))\n",
        "\n",
        "# Цветовая легенда\n",
        "fig.colorbar(surf, shrink=0.5, aspect=5)\n",
        "\n",
        "ax.azim = 30\n",
        "ax.dist = 11\n",
        "ax.elev = 45\n",
        "\n",
        "\n",
        "plt.show()"
      ]
    },
    {
      "cell_type": "code",
      "source": [],
      "metadata": {
        "id": "D1rOJoAF10Nz"
      },
      "execution_count": null,
      "outputs": []
    }
  ]
}