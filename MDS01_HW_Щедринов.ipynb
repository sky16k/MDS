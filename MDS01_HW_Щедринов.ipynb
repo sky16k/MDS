{
  "nbformat": 4,
  "nbformat_minor": 0,
  "metadata": {
    "colab": {
      "provenance": [],
      "include_colab_link": true
    },
    "kernelspec": {
      "name": "python3",
      "display_name": "Python 3"
    }
  },
  "cells": [
    {
      "cell_type": "markdown",
      "metadata": {
        "id": "view-in-github",
        "colab_type": "text"
      },
      "source": [
        "<a href=\"https://colab.research.google.com/github/sky16k/MDS/blob/main/MDS01_HW_%D0%A9%D0%B5%D0%B4%D1%80%D0%B8%D0%BD%D0%BE%D0%B2.ipynb\" target=\"_parent\"><img src=\"https://colab.research.google.com/assets/colab-badge.svg\" alt=\"Open In Colab\"/></a>"
      ]
    },
    {
      "cell_type": "code",
      "source": [
        "from google.colab import drive\n",
        "drive.mount('/content/drive')\n",
        "\n",
        "import os, sys\n",
        "data_path = '/content/data'\n",
        "try:\n",
        "    os.symlink('/content/drive/MyDrive/скул/DS/data', data_path)\n",
        "    sys.path.insert(0,data_path)\n",
        "except:\n",
        "    pass\n",
        "# Then you can install a library, and specify the target.\n",
        "# !pip install --target=$data_path vk_api_config.py"
      ],
      "metadata": {
        "colab": {
          "base_uri": "https://localhost:8080/"
        },
        "id": "j9I0i8jfvAKH",
        "outputId": "14ef9bee-581e-487f-909a-325b04ccea7d"
      },
      "execution_count": null,
      "outputs": [
        {
          "output_type": "stream",
          "name": "stdout",
          "text": [
            "Mounted at /content/drive\n"
          ]
        }
      ]
    },
    {
      "cell_type": "markdown",
      "metadata": {
        "id": "_kX74ytuOfgy"
      },
      "source": [
        "# Домашнее задание \"Основные математические понятия\"."
      ]
    },
    {
      "cell_type": "markdown",
      "source": [],
      "metadata": {
        "id": "nW5C45enfdcu"
      }
    },
    {
      "cell_type": "markdown",
      "source": [
        "## Уровень 0:\n"
      ],
      "metadata": {
        "id": "t69IZulqTZMz"
      }
    },
    {
      "cell_type": "markdown",
      "metadata": {
        "id": "rzDIWhwiKxdO"
      },
      "source": [
        "Представим фильмы в виде бинарных векторов (numpy array) используя следующие признаки:\n",
        "\n",
        "[Комедия, Боевик, Исторический, Бред Питт, Бенедикт Камбербэтч, Квентин Тарантино]\n",
        "\n",
        "[Игра в имитацию](https://www.kinopoisk.ru/film/635772/)\n",
        "\n",
        "[Ярость](https://www.kinopoisk.ru/film/740644/)\n",
        "\n",
        "[12 лет рабства](https://www.kinopoisk.ru/film/606646/)\n",
        "\n",
        "[Однажды в Голливуде](https://www.kinopoisk.ru/film/1047883/)\n",
        "\n",
        "```\n",
        "film_1 = np.array([0,0,0,0,1,0])      # Игра в имитацию\n",
        "\n",
        "film_2 = np.array([0,1,0,1,0,0])      # Ярость\n",
        "\n",
        "film_3 = np.array([0,0,1,1,1,0])      # 12 лет рабства\n",
        "\n",
        "film_4 = np.array([1,0,0,1,0,1])      # Однажды в Голливуде\n",
        "```\n",
        "\n"
      ]
    },
    {
      "cell_type": "code",
      "source": [
        "### YOUR CODE HERE\n",
        "import numpy as np\n",
        "\n",
        "film_1 = np.array([0,0,0,0,1,0])      # Игра в имитацию\n",
        "\n",
        "film_2 = np.array([0,1,0,1,0,0])      # Ярость\n",
        "\n",
        "film_3 = np.array([0,0,1,1,1,0])      # 12 лет рабства\n",
        "\n",
        "film_4 = np.array([1,0,0,1,0,1])      # Однажды в Голливуде"
      ],
      "metadata": {
        "id": "eawtOZO0few8"
      },
      "execution_count": null,
      "outputs": []
    },
    {
      "cell_type": "markdown",
      "source": [
        "### Задание 1"
      ],
      "metadata": {
        "id": "9JUikPzroAL8"
      }
    },
    {
      "cell_type": "markdown",
      "source": [
        "####текст"
      ],
      "metadata": {
        "id": "_m6QJdwtMeFu"
      }
    },
    {
      "cell_type": "code",
      "source": [
        "# комментарий эксперта\n",
        "'''\n",
        "\n",
        "'''"
      ],
      "metadata": {
        "id": "LG7Q1soZ97bI"
      },
      "execution_count": null,
      "outputs": []
    },
    {
      "cell_type": "markdown",
      "source": [
        "Найти угол между векторами-фильмами \"Ярость\" и \"12 лет рабства\". Результатом будет являться косинусная мера, которую можно использовать для определения похожести векторов."
      ],
      "metadata": {
        "id": "ya8BlSO5nQ9a"
      }
    },
    {
      "cell_type": "markdown",
      "source": [
        "####программа"
      ],
      "metadata": {
        "id": "KjSvPiWdMfT5"
      }
    },
    {
      "cell_type": "code",
      "source": [
        "### YOUR CODE HERE\n",
        "a=film_2\n",
        "b=film_3\n",
        "np.rad2deg(np.arccos(np.dot(a,b)/(np.linalg.norm(a)*np.linalg.norm(b))))"
      ],
      "metadata": {
        "id": "p2gC3FEFnY08",
        "colab": {
          "base_uri": "https://localhost:8080/"
        },
        "outputId": "8a132cba-3d81-403e-84fe-61f04132915d"
      },
      "execution_count": null,
      "outputs": [
        {
          "output_type": "execute_result",
          "data": {
            "text/plain": [
              "65.90515744788931"
            ]
          },
          "metadata": {},
          "execution_count": 3
        }
      ]
    },
    {
      "cell_type": "code",
      "source": [],
      "metadata": {
        "id": "klqicdcgdUro"
      },
      "execution_count": null,
      "outputs": []
    },
    {
      "cell_type": "markdown",
      "source": [
        "## Уровень 1:"
      ],
      "metadata": {
        "id": "qZxS_tEVTapE"
      }
    },
    {
      "cell_type": "markdown",
      "source": [
        "### Задание 2"
      ],
      "metadata": {
        "id": "gUB5Tx31oDZB"
      }
    },
    {
      "cell_type": "markdown",
      "source": [
        "####текст"
      ],
      "metadata": {
        "id": "KRNNt6LNMg0B"
      }
    },
    {
      "cell_type": "code",
      "source": [
        "# комментарий эксперта\n",
        "'''\n",
        "\n",
        "'''"
      ],
      "metadata": {
        "id": "QXwNwGPB-Dup"
      },
      "execution_count": null,
      "outputs": []
    },
    {
      "cell_type": "markdown",
      "source": [
        "Вычислить с помощью Python значение первой производной для функции $8x(x+3)^2$ в точке $x=1$\n"
      ],
      "metadata": {
        "id": "Jh-pEPj-TcDQ"
      }
    },
    {
      "cell_type": "markdown",
      "source": [
        "####программа"
      ],
      "metadata": {
        "id": "N-6nTS6RxsCR"
      }
    },
    {
      "cell_type": "code",
      "source": [
        "import sympy as sym"
      ],
      "metadata": {
        "id": "wSqCygzFMho8"
      },
      "execution_count": null,
      "outputs": []
    },
    {
      "cell_type": "code",
      "source": [
        "### YOUR CODE HERE\n",
        "x=sym.Symbol('x')"
      ],
      "metadata": {
        "id": "uco5UzhWoHAP"
      },
      "execution_count": null,
      "outputs": []
    },
    {
      "cell_type": "code",
      "source": [
        "8*x*(x+3)**2"
      ],
      "metadata": {
        "colab": {
          "base_uri": "https://localhost:8080/",
          "height": 39
        },
        "id": "VX67Ffy3yR-p",
        "outputId": "cf2b14ad-1992-4458-9847-4e2c6129e4ba"
      },
      "execution_count": null,
      "outputs": [
        {
          "output_type": "execute_result",
          "data": {
            "text/plain": [
              "8*x*(x + 3)**2"
            ],
            "text/latex": "$\\displaystyle 8 x \\left(x + 3\\right)^{2}$"
          },
          "metadata": {},
          "execution_count": 7
        }
      ]
    },
    {
      "cell_type": "code",
      "source": [
        "res=sym.diff(8*x*(x+3)**2,x)\n",
        "res"
      ],
      "metadata": {
        "colab": {
          "base_uri": "https://localhost:8080/",
          "height": 39
        },
        "id": "-58dvdW2yZq4",
        "outputId": "65450b45-08c9-47f5-a5e0-dfbb1ae0b311"
      },
      "execution_count": null,
      "outputs": [
        {
          "output_type": "execute_result",
          "data": {
            "text/plain": [
              "8*x*(2*x + 6) + 8*(x + 3)**2"
            ],
            "text/latex": "$\\displaystyle 8 x \\left(2 x + 6\\right) + 8 \\left(x + 3\\right)^{2}$"
          },
          "metadata": {},
          "execution_count": 8
        }
      ]
    },
    {
      "cell_type": "code",
      "source": [
        "res.subs(x,1)"
      ],
      "metadata": {
        "colab": {
          "base_uri": "https://localhost:8080/",
          "height": 37
        },
        "id": "NKV0utC_yZh5",
        "outputId": "bcd55360-9570-4922-de47-561fa77b19a3"
      },
      "execution_count": null,
      "outputs": [
        {
          "output_type": "execute_result",
          "data": {
            "text/plain": [
              "192"
            ],
            "text/latex": "$\\displaystyle 192$"
          },
          "metadata": {},
          "execution_count": 9
        }
      ]
    },
    {
      "cell_type": "code",
      "source": [],
      "metadata": {
        "id": "KRVVUR1syZe4"
      },
      "execution_count": null,
      "outputs": []
    },
    {
      "cell_type": "markdown",
      "source": [
        "### Задание 3\n"
      ],
      "metadata": {
        "id": "aHk7fBooosb6"
      }
    },
    {
      "cell_type": "markdown",
      "source": [
        "####текст"
      ],
      "metadata": {
        "id": "7OZG52_Uxl75"
      }
    },
    {
      "cell_type": "code",
      "source": [
        "# комментарий эксперта\n",
        "'''\n",
        "\n",
        "'''"
      ],
      "metadata": {
        "id": "Kp3GBS_bxl75"
      },
      "execution_count": null,
      "outputs": []
    },
    {
      "cell_type": "markdown",
      "source": [
        "Объединить векторы фильмов в матрицу, где каждый вектор является строкой матрицы. Умножьте вектор [1,2,3,4] на полученную матрицу"
      ],
      "metadata": {
        "id": "0MFp0SProbiw"
      }
    },
    {
      "cell_type": "markdown",
      "source": [
        "####программа"
      ],
      "metadata": {
        "id": "vHceZSV8xsrh"
      }
    },
    {
      "cell_type": "code",
      "source": [
        "import numpy as np"
      ],
      "metadata": {
        "id": "HoQfgQBNx_wB"
      },
      "execution_count": null,
      "outputs": []
    },
    {
      "cell_type": "code",
      "source": [
        "### YOUR CODE HERE\n",
        "A = np.array([[0,0,0,0,1,0],\n",
        "              [0,1,0,1,0,0],\n",
        "              [0,0,1,1,1,0],\n",
        "              [1,0,0,1,0,1]])"
      ],
      "metadata": {
        "id": "1OeJWLrpobqU"
      },
      "execution_count": null,
      "outputs": []
    },
    {
      "cell_type": "code",
      "source": [
        "A1 = A.T"
      ],
      "metadata": {
        "id": "Cko6sghB0OiI"
      },
      "execution_count": 25,
      "outputs": []
    },
    {
      "cell_type": "code",
      "source": [
        "v = np.array([1,2,3,4])"
      ],
      "metadata": {
        "id": "MaujmEB1zv9X"
      },
      "execution_count": 26,
      "outputs": []
    },
    {
      "cell_type": "code",
      "source": [
        "A1@v"
      ],
      "metadata": {
        "colab": {
          "base_uri": "https://localhost:8080/"
        },
        "id": "nRPoDsf5z62I",
        "outputId": "2c297bdd-ce80-4f63-fe1f-5fb814fa45bb"
      },
      "execution_count": 27,
      "outputs": [
        {
          "output_type": "execute_result",
          "data": {
            "text/plain": [
              "array([4, 2, 3, 9, 4, 4])"
            ]
          },
          "metadata": {},
          "execution_count": 27
        }
      ]
    },
    {
      "cell_type": "code",
      "source": [],
      "metadata": {
        "id": "RawNZTHE0HSA"
      },
      "execution_count": null,
      "outputs": []
    }
  ]
}