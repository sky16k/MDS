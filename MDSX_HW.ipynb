{
  "nbformat": 4,
  "nbformat_minor": 0,
  "metadata": {
    "colab": {
      "provenance": [],
      "include_colab_link": true
    },
    "kernelspec": {
      "name": "python3",
      "display_name": "Python 3"
    }
  },
  "cells": [
    {
      "cell_type": "markdown",
      "metadata": {
        "id": "view-in-github",
        "colab_type": "text"
      },
      "source": [
        "<a href=\"https://colab.research.google.com/github/sky16k/MDS/blob/main/MDSX_HW.ipynb\" target=\"_parent\"><img src=\"https://colab.research.google.com/assets/colab-badge.svg\" alt=\"Open In Colab\"/></a>"
      ]
    },
    {
      "cell_type": "markdown",
      "metadata": {
        "id": "g1hQiFW7isGe"
      },
      "source": [
        "# Итоговая работа."
      ]
    },
    {
      "cell_type": "code",
      "metadata": {
        "id": "NyZ7GotDi1Mp"
      },
      "source": [
        "import matplotlib.pyplot as plt\n",
        "import numpy as np\n",
        "\n",
        "from scipy.optimize import differential_evolution\n",
        "from scipy.optimize import minimize\n",
        "from scipy.stats import norm\n",
        "%matplotlib inline"
      ],
      "execution_count": null,
      "outputs": []
    },
    {
      "cell_type": "markdown",
      "metadata": {
        "id": "VZFf_auXisJd"
      },
      "source": [
        "## Задание 1"
      ]
    },
    {
      "cell_type": "markdown",
      "metadata": {
        "id": "39rGnTIojFlV"
      },
      "source": [
        "\n",
        "Вычислите производную функции: \n",
        "\n",
        "$tg^2(sin(x) + cos(2x+3))$ \n",
        "\n",
        "в точке $x_0=1$\n"
      ]
    },
    {
      "cell_type": "code",
      "source": [
        "import sympy as sym\n",
        "from sympy import *\n",
        "\n",
        "x=sym.Symbol('x')"
      ],
      "metadata": {
        "id": "wSqCygzFMho8"
      },
      "execution_count": null,
      "outputs": []
    },
    {
      "cell_type": "code",
      "source": [
        "### YOUR CODE HERE\n",
        "f = (tan( sin(x) + cos( 2*x + 3 ) ))**2\n",
        "diff(f,x).subs(x,1).evalf()"
      ],
      "metadata": {
        "id": "9NqehLwAL-p6",
        "colab": {
          "base_uri": "https://localhost:8080/",
          "height": 37
        },
        "outputId": "16e920bb-1460-4cc0-a212-b63d3199bb53"
      },
      "execution_count": null,
      "outputs": [
        {
          "output_type": "execute_result",
          "data": {
            "text/plain": [
              "55.3859176353379"
            ],
            "text/latex": "$\\displaystyle 55.3859176353379$"
          },
          "metadata": {},
          "execution_count": 4
        }
      ]
    },
    {
      "cell_type": "code",
      "source": [],
      "metadata": {
        "id": "KRVVUR1syZe4"
      },
      "execution_count": null,
      "outputs": []
    },
    {
      "cell_type": "markdown",
      "source": [
        "## Задание 2"
      ],
      "metadata": {
        "id": "P0dJuDCHlitb"
      }
    },
    {
      "cell_type": "markdown",
      "source": [
        "Дан объект в $2D$ пространстве"
      ],
      "metadata": {
        "id": "9t_CAEu4ljXX"
      }
    },
    {
      "cell_type": "code",
      "source": [
        "import numpy as np\n",
        "import matplotlib.pyplot as plt\n",
        "\n",
        "A = [\n",
        "[-100, -100, 1],\n",
        "[0, 100, 1],\n",
        "[100, -100, 1],\n",
        "[-100, -100, 1]\n",
        "]\n",
        "\n",
        "A = np.array(A)\n",
        "\n",
        "x = A[:,0]\n",
        "y = A[:,1]\n",
        "plt.plot(x, y)\n",
        "plt.ylim([-200, 200])\n",
        "plt.xlim([-200, 200]) "
      ],
      "metadata": {
        "colab": {
          "base_uri": "https://localhost:8080/",
          "height": 286
        },
        "id": "jOSkPagdljlG",
        "outputId": "82d8f12e-7f64-4653-fb17-000eb83b0e3c"
      },
      "execution_count": null,
      "outputs": [
        {
          "output_type": "execute_result",
          "data": {
            "text/plain": [
              "(-200.0, 200.0)"
            ]
          },
          "metadata": {},
          "execution_count": 21
        },
        {
          "output_type": "display_data",
          "data": {
            "text/plain": [
              "<Figure size 432x288 with 1 Axes>"
            ],
            "image/png": "[encoded data removed]"
          },
          "metadata": {
            "needs_background": "light"
          }
        }
      ]
    },
    {
      "cell_type": "markdown",
      "source": [
        "При помощи матричных операций выполните:\n",
        "- Масштабирование и смещение объекта (применить 2 матрицы трансформаций). Масштабирование на (0.5, 1.2) и смещение на (200, 300)\n"
      ],
      "metadata": {
        "id": "ALnwba_5lkFh"
      }
    },
    {
      "cell_type": "code",
      "source": [
        "### YOUR CODE HERE"
      ],
      "metadata": {
        "id": "k1J7lbkRlkON"
      },
      "execution_count": null,
      "outputs": []
    },
    {
      "cell_type": "code",
      "source": [
        "import numpy as np\n",
        "import matplotlib.pyplot as plt\n",
        "\n",
        "A = [\n",
        "[-100, -100, 1],\n",
        "[0, 100, 1],\n",
        "[100, -100, 1],\n",
        "[-100, -100, 1]\n",
        "]\n",
        "\n",
        "A = np.array(A)\n",
        "B = A@np.array([[0.5,  0,  0],\n",
        "                [0,  1.2,  0],\n",
        "                [0,    0,  1]])\n",
        "\n",
        "\n",
        "x = B[:,0]\n",
        "y = B[:,1]\n",
        "plt.plot(x, y)\n",
        "plt.ylim([-200, 200])\n",
        "plt.xlim([-200, 200])"
      ],
      "metadata": {
        "colab": {
          "base_uri": "https://localhost:8080/",
          "height": 208
        },
        "outputId": "ea35f374-da62-4814-8bc6-b00e9bc33b87",
        "id": "r5Obtj2PycxD"
      },
      "execution_count": null,
      "outputs": [
        {
          "output_type": "execute_result",
          "data": {
            "text/plain": [
              "(-200.0, 200.0)"
            ]
          },
          "metadata": {},
          "execution_count": 2
        },
        {
          "output_type": "display_data",
          "data": {
            "text/plain": [
              "<Figure size 432x288 with 1 Axes>"
            ],
            "image/png": "[encoded data removed]"
          },
          "metadata": {
            "needs_background": "light"
          }
        }
      ]
    },
    {
      "cell_type": "code",
      "source": [
        "C = B@np.array([[1,  0,  0],\n",
        "                [0,  1,  0],\n",
        "                [200,  300,  1]])\n",
        "\n",
        "\n",
        "x = C[:,0]\n",
        "y = C[:,1]\n",
        "plt.plot(x, y)\n",
        "plt.ylim([50, 450])\n",
        "plt.xlim([-100, 300])"
      ],
      "metadata": {
        "colab": {
          "base_uri": "https://localhost:8080/",
          "height": 212
        },
        "outputId": "877c51a0-4f35-428d-9657-45fa9a908f65",
        "id": "GW1aFOMA0dac"
      },
      "execution_count": null,
      "outputs": [
        {
          "output_type": "execute_result",
          "data": {
            "text/plain": [
              "(-100.0, 300.0)"
            ]
          },
          "metadata": {},
          "execution_count": 10
        },
        {
          "output_type": "display_data",
          "data": {
            "text/plain": [
              "<Figure size 432x288 with 1 Axes>"
            ],
            "image/png": "[encoded data removed]"
          },
          "metadata": {
            "needs_background": "light"
          }
        }
      ]
    },
    {
      "cell_type": "markdown",
      "metadata": {
        "id": "QRJEo5ydjFjG"
      },
      "source": [
        "## Задание 3\n"
      ]
    },
    {
      "cell_type": "markdown",
      "source": [
        "Найдите собственные значения и собственные вектора матрицы:"
      ],
      "metadata": {
        "id": "j1IOvxF8L1v4"
      }
    },
    {
      "cell_type": "code",
      "source": [
        "m = np.array([[1, 4],\n",
        "              [1, 1]])\n",
        "print(m)"
      ],
      "metadata": {
        "id": "6aq0Aa8NL4gW",
        "colab": {
          "base_uri": "https://localhost:8080/"
        },
        "outputId": "e87d4226-5454-473b-fa6b-ab53d0089f30"
      },
      "execution_count": null,
      "outputs": [
        {
          "output_type": "stream",
          "name": "stdout",
          "text": [
            "[[1 4]\n",
            " [1 1]]\n"
          ]
        }
      ]
    },
    {
      "cell_type": "code",
      "source": [
        "### YOUR CODE HERE\n",
        "E = np.linalg.eig(m)\n",
        "print('собственные значения: ', E[0])\n",
        "print('собственные вектора: ')#, E[1])\n",
        "for e in E[1].T:\n",
        "    print(e)"
      ],
      "metadata": {
        "id": "UOAdFwznMdY5",
        "colab": {
          "base_uri": "https://localhost:8080/"
        },
        "outputId": "99145495-2250-4498-ca1d-762a42b60e71"
      },
      "execution_count": null,
      "outputs": [
        {
          "output_type": "stream",
          "name": "stdout",
          "text": [
            "собственные значения:  [ 3. -1.]\n",
            "собственные вектора: \n",
            "[0.89442719 0.4472136 ]\n",
            "[-0.89442719  0.4472136 ]\n"
          ]
        }
      ]
    },
    {
      "cell_type": "markdown",
      "metadata": {
        "id": "T1y3_xiwjFpC"
      },
      "source": [
        "## Задание 4\n"
      ]
    },
    {
      "cell_type": "markdown",
      "source": [
        "Дана функция с неизвестными параметрами a и b, вам также известны значения функции `fx` в точках `x`. \n",
        "\n",
        "Найдите оптимальные параметры a, b, минимизирующие абсолютную ошибку `error`.\n"
      ],
      "metadata": {
        "id": "iJnhteBQMScA"
      }
    },
    {
      "cell_type": "code",
      "source": [
        "import numpy as np\n",
        "import matplotlib.pyplot as plt"
      ],
      "metadata": {
        "id": "LIzFinli3QPB"
      },
      "execution_count": null,
      "outputs": []
    },
    {
      "cell_type": "code",
      "source": [
        "def f(x, a, b):\n",
        "    return np.e**a * np.sin(b*x) + x"
      ],
      "metadata": {
        "id": "eCUHicv7MSix"
      },
      "execution_count": null,
      "outputs": []
    },
    {
      "cell_type": "code",
      "source": [
        "x = np.array([0.        , 0.26315789, 0.52631579, 0.78947368, 1.05263158,\n",
        "              1.31578947, 1.57894737, 1.84210526, 2.10526316, 2.36842105,\n",
        "              2.63157895, 2.89473684, 3.15789474, 3.42105263, 3.68421053,\n",
        "              3.94736842, 4.21052632, 4.47368421, 4.73684211, 5.        ])\n",
        "\n",
        "fx = np.array([  0.        , -12.01819092, -18.90968634, -17.68786571,\n",
        "                -8.7529108 ,   4.27524517,  16.06801336,  21.81250213,\n",
        "                19.22059845,   9.48411207,  -3.22273056, -13.48576488,\n",
        "               -16.91096359, -11.95866834,  -0.58630088,  12.56873816,\n",
        "                22.12489421,  24.20292139,  18.04522521,   6.33211092])"
      ],
      "metadata": {
        "id": "99KsJtMSMSk7"
      },
      "execution_count": null,
      "outputs": []
    },
    {
      "cell_type": "code",
      "source": [
        "plt.plot(x, fx)\n",
        "plt.show()"
      ],
      "metadata": {
        "id": "ZVBTEvLlMSnf"
      },
      "execution_count": null,
      "outputs": []
    },
    {
      "cell_type": "code",
      "source": [
        "def error(params):\n",
        "    return np.sum(np.abs(fx - f(x, params[0], params[1])))"
      ],
      "metadata": {
        "id": "S_hiJIdNMSpt"
      },
      "execution_count": null,
      "outputs": []
    },
    {
      "cell_type": "code",
      "source": [
        "from scipy.optimize import minimize\n",
        "\n",
        "for i in range(-10,10):\n",
        "  for j in range(-10,10):\n",
        "    # p_ = randint(0, 10 + 1,2)\n",
        "    p0=(i,j)\n",
        "    res = minimize(error, p0)\n",
        "    if i==-10 and j==-10: res_best = res\n",
        "    # print('p0 : ',p_)\n",
        "\n",
        "    # print(res.fun, res.x, p0)\n",
        "\n",
        "    if res.fun < res_best.fun: res_best = res\n",
        "\n",
        "    # plt.figure(figsize=(12, 8))\n",
        "    # plt.plot(x, y, color='blue')\n",
        "    # plt.plot(x, f(x, res[0][0], res[0][1]),color='red',label=f'{res[0]},{p_}')\n",
        "    # plt.legend()\n",
        "    # plt.show()\n",
        "    # print(error(res.x))\n",
        "\n",
        "plt.figure(figsize=(12, 8))\n",
        "plt.plot(x, fx, color='blue')\n",
        "plt.plot(x, f(x, res_best.x[0], res_best.x[1]),color='red',label=f'{res_best.x}')\n",
        "plt.legend()\n",
        "plt.show()\n",
        "\n",
        "print('оптимальные параметры :',res_best.x.round(2))\n"
      ],
      "metadata": {
        "colab": {
          "base_uri": "https://localhost:8080/",
          "height": 1000
        },
        "outputId": "9dc32937-b12e-46fa-927d-0bdde7ce132c",
        "id": "PSO5J-ln0Q8G"
      },
      "execution_count": null,
      "outputs": [
        {
          "output_type": "stream",
          "name": "stderr",
          "text": [
            "<ipython-input-25-eae290ae639a>:2: RuntimeWarning: overflow encountered in double_scalars\n",
            "  return np.e**a * np.sin(b*x) + x\n",
            "<ipython-input-25-eae290ae639a>:2: RuntimeWarning: invalid value encountered in multiply\n",
            "  return np.e**a * np.sin(b*x) + x\n",
            "<ipython-input-25-eae290ae639a>:2: RuntimeWarning: overflow encountered in double_scalars\n",
            "  return np.e**a * np.sin(b*x) + x\n",
            "<ipython-input-25-eae290ae639a>:2: RuntimeWarning: invalid value encountered in multiply\n",
            "  return np.e**a * np.sin(b*x) + x\n",
            "<ipython-input-25-eae290ae639a>:2: RuntimeWarning: overflow encountered in double_scalars\n",
            "  return np.e**a * np.sin(b*x) + x\n",
            "<ipython-input-25-eae290ae639a>:2: RuntimeWarning: invalid value encountered in multiply\n",
            "  return np.e**a * np.sin(b*x) + x\n",
            "<ipython-input-25-eae290ae639a>:2: RuntimeWarning: overflow encountered in double_scalars\n",
            "  return np.e**a * np.sin(b*x) + x\n",
            "<ipython-input-25-eae290ae639a>:2: RuntimeWarning: invalid value encountered in multiply\n",
            "  return np.e**a * np.sin(b*x) + x\n",
            "<ipython-input-25-eae290ae639a>:2: RuntimeWarning: overflow encountered in double_scalars\n",
            "  return np.e**a * np.sin(b*x) + x\n",
            "<ipython-input-25-eae290ae639a>:2: RuntimeWarning: invalid value encountered in multiply\n",
            "  return np.e**a * np.sin(b*x) + x\n",
            "<ipython-input-25-eae290ae639a>:2: RuntimeWarning: overflow encountered in double_scalars\n",
            "  return np.e**a * np.sin(b*x) + x\n",
            "<ipython-input-25-eae290ae639a>:2: RuntimeWarning: invalid value encountered in multiply\n",
            "  return np.e**a * np.sin(b*x) + x\n",
            "<ipython-input-25-eae290ae639a>:2: RuntimeWarning: overflow encountered in double_scalars\n",
            "  return np.e**a * np.sin(b*x) + x\n",
            "<ipython-input-25-eae290ae639a>:2: RuntimeWarning: invalid value encountered in multiply\n",
            "  return np.e**a * np.sin(b*x) + x\n",
            "<ipython-input-25-eae290ae639a>:2: RuntimeWarning: overflow encountered in double_scalars\n",
            "  return np.e**a * np.sin(b*x) + x\n",
            "<ipython-input-25-eae290ae639a>:2: RuntimeWarning: invalid value encountered in multiply\n",
            "  return np.e**a * np.sin(b*x) + x\n",
            "<ipython-input-25-eae290ae639a>:2: RuntimeWarning: overflow encountered in double_scalars\n",
            "  return np.e**a * np.sin(b*x) + x\n",
            "<ipython-input-25-eae290ae639a>:2: RuntimeWarning: invalid value encountered in multiply\n",
            "  return np.e**a * np.sin(b*x) + x\n",
            "<ipython-input-25-eae290ae639a>:2: RuntimeWarning: overflow encountered in double_scalars\n",
            "  return np.e**a * np.sin(b*x) + x\n",
            "<ipython-input-25-eae290ae639a>:2: RuntimeWarning: invalid value encountered in multiply\n",
            "  return np.e**a * np.sin(b*x) + x\n",
            "<ipython-input-25-eae290ae639a>:2: RuntimeWarning: overflow encountered in double_scalars\n",
            "  return np.e**a * np.sin(b*x) + x\n",
            "<ipython-input-25-eae290ae639a>:2: RuntimeWarning: invalid value encountered in multiply\n",
            "  return np.e**a * np.sin(b*x) + x\n",
            "<ipython-input-25-eae290ae639a>:2: RuntimeWarning: overflow encountered in double_scalars\n",
            "  return np.e**a * np.sin(b*x) + x\n",
            "<ipython-input-25-eae290ae639a>:2: RuntimeWarning: invalid value encountered in multiply\n",
            "  return np.e**a * np.sin(b*x) + x\n",
            "<ipython-input-25-eae290ae639a>:2: RuntimeWarning: overflow encountered in double_scalars\n",
            "  return np.e**a * np.sin(b*x) + x\n",
            "<ipython-input-25-eae290ae639a>:2: RuntimeWarning: invalid value encountered in multiply\n",
            "  return np.e**a * np.sin(b*x) + x\n",
            "<ipython-input-25-eae290ae639a>:2: RuntimeWarning: overflow encountered in double_scalars\n",
            "  return np.e**a * np.sin(b*x) + x\n",
            "<ipython-input-25-eae290ae639a>:2: RuntimeWarning: invalid value encountered in multiply\n",
            "  return np.e**a * np.sin(b*x) + x\n",
            "<ipython-input-25-eae290ae639a>:2: RuntimeWarning: overflow encountered in double_scalars\n",
            "  return np.e**a * np.sin(b*x) + x\n",
            "<ipython-input-25-eae290ae639a>:2: RuntimeWarning: invalid value encountered in multiply\n",
            "  return np.e**a * np.sin(b*x) + x\n",
            "<ipython-input-25-eae290ae639a>:2: RuntimeWarning: overflow encountered in double_scalars\n",
            "  return np.e**a * np.sin(b*x) + x\n",
            "<ipython-input-25-eae290ae639a>:2: RuntimeWarning: invalid value encountered in multiply\n",
            "  return np.e**a * np.sin(b*x) + x\n",
            "<ipython-input-25-eae290ae639a>:2: RuntimeWarning: overflow encountered in double_scalars\n",
            "  return np.e**a * np.sin(b*x) + x\n",
            "<ipython-input-25-eae290ae639a>:2: RuntimeWarning: invalid value encountered in multiply\n",
            "  return np.e**a * np.sin(b*x) + x\n"
          ]
        },
        {
          "output_type": "display_data",
          "data": {
            "text/plain": [
              "<Figure size 864x576 with 1 Axes>"
            ],
            "image/png": "[encoded data removed]"
          },
          "metadata": {
            "needs_background": "light"
          }
        },
        {
          "output_type": "stream",
          "name": "stdout",
          "text": [
            "оптимальные параметры : [ 3.  -2.5]\n"
          ]
        }
      ]
    },
    {
      "cell_type": "markdown",
      "source": [
        "## Задание 5\n",
        "\n"
      ],
      "metadata": {
        "id": "w994ooEPPv5W"
      }
    },
    {
      "cell_type": "markdown",
      "metadata": {
        "id": "ABMPXsuhisMO"
      },
      "source": [
        "Дана матрица рейтингов фильмов (строки - пользователи (10 человек), столбцы - фильмы (15 фильмов))"
      ]
    },
    {
      "cell_type": "code",
      "metadata": {
        "id": "D4_Vshevi-4P"
      },
      "source": [
        "raitings = np.array([[ 4,  4,  9,  4,  1,  6, 10,  7,  9,  6,  9,  2,  8,  6,  6],\n",
        "                     [ 9,  2,  5, 10,  7,  8, 10,  5,  6,  2,  1,  6,  8,  9,  7],\n",
        "                     [ 1,  6,  8,  8,  4,  9,  3,  8, 10,  5,  2,  6,  8,  1,  6],\n",
        "                     [ 6,  1,  9,  7,  7,  9,  2,  3,  5,  1,  6,  6,  3,  2,  7],\n",
        "                     [ 3,  7,  3,  5,  7,  9,  9,  6,  2,  9,  1,  2,  8, 10,  6],\n",
        "                     [ 8,  3,  7,  3,  8,  6,  1,  8,  8,  6,  1,  9,  4, 10,  1],\n",
        "                     [ 9,  8,  4,  8,  8, 10,  6,  1,  1,  2,  9,  5,  2,  7,  2],\n",
        "                     [ 4,  1,  6,  4,  3, 10,  4,  4,  2,  8,  7,  9,  3,  8,  3],\n",
        "                     [ 2,  7,  7,  6, 10,  6,  8,  9,  8,  6, 10,  1,  7, 10,  4],\n",
        "                     [ 5, 10,  8,  8,  9,  7,  2,  9,  9, 10,  8,  8,  8,  6, 10]])"
      ],
      "execution_count": null,
      "outputs": []
    },
    {
      "cell_type": "markdown",
      "metadata": {
        "id": "FuYpBPsTjBVa"
      },
      "source": [
        "Необходимо найти наиболее похожего пользователя по косинусной метрике для каждого из пользователей (ответ: 10 пар вида (x, y), где y - наиболее похожий пользователь на пользователя x)."
      ]
    },
    {
      "cell_type": "code",
      "source": [
        "import numpy as np\n",
        "\n",
        "from sklearn.metrics.pairwise import cosine_similarity"
      ],
      "metadata": {
        "id": "EigwobXuFjK8"
      },
      "execution_count": 58,
      "outputs": []
    },
    {
      "cell_type": "code",
      "source": [
        "### YOUR CODE HERE\n",
        "# for i,x in enumerate(raitings):\n",
        "#     for j,y in enumerate(raitings):\n",
        "cs = cosine_similarity(raitings)\n",
        "E = np.eye(len(cs))\n",
        "cs = cs - E\n",
        "# print(np.round(cs,3))\n",
        "for x,v in enumerate(cs):\n",
        "    # print(v)\n",
        "    y = list(v).index(max(v))\n",
        "    print('для пользователя ',x+1, 'ближайший похожий : ',y+1)"
      ],
      "metadata": {
        "id": "dY3dBHLbKY_I",
        "colab": {
          "base_uri": "https://localhost:8080/"
        },
        "outputId": "5dce4d66-450b-436a-c215-fa34585d0617"
      },
      "execution_count": 66,
      "outputs": [
        {
          "output_type": "stream",
          "name": "stdout",
          "text": [
            "для пользователя  1 ближайший похожий :  9\n",
            "для пользователя  2 ближайший похожий :  5\n",
            "для пользователя  3 ближайший похожий :  10\n",
            "для пользователя  4 ближайший похожий :  10\n",
            "для пользователя  5 ближайший похожий :  9\n",
            "для пользователя  6 ближайший похожий :  10\n",
            "для пользователя  7 ближайший похожий :  4\n",
            "для пользователя  8 ближайший похожий :  6\n",
            "для пользователя  9 ближайший похожий :  1\n",
            "для пользователя  10 ближайший похожий :  3\n"
          ]
        }
      ]
    },
    {
      "cell_type": "code",
      "source": [],
      "metadata": {
        "id": "C6r1eKzZLJ1X"
      },
      "execution_count": null,
      "outputs": []
    }
  ]
}